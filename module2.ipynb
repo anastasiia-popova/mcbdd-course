{
 "cells": [
  {
   "cell_type": "markdown",
   "id": "67bfca8d-55ec-4048-b096-7a521c22a1a9",
   "metadata": {},
   "source": [
    "## Module 2 \n",
    "\n",
    "**Task description:**\n",
    "\n",
    "Please use your favourite programming language (shell scripts, python, R, for instance) and APIs (Application Programming Interfaces) of databases to perform following operations. Submit your code. \n",
    "\n",
    "1. Retrieve all approved drugs from the ChEMBL database, sort them by approval year and name (a [Python example is here](https://github.com/chembl/chembl_webresource_client); documentations of the ChEMBL API can be found [here](https://www.ebi.ac.uk/chembl/api/data/docs));\n",
    "  \n",
    "2. For each approved drug since 2014 that you identified in step (1), retrieve a list of UniProt accession numbers, namely protein targets associated with the drug;\n",
    "\n",
    "3.  For each protein with a UniProt accession number that you identified in step (2), retrieve **UniProt keywords** associated with it. You can use the UniProt API, documented [here](https://www.ebi.ac.uk/proteins/api/doc/#!/proteins/search). Python and R clients are also available."
   ]
  },
  {
   "cell_type": "markdown",
   "id": "62ecb913-bf50-47f7-acb9-fab236d1d64c",
   "metadata": {},
   "source": [
    "## 1. Retrieve and sort all approved drugs from the ChEMBL DB"
   ]
  },
  {
   "cell_type": "code",
   "execution_count": 1,
   "id": "1f6df983-8525-4047-9d21-6872b0fef24d",
   "metadata": {},
   "outputs": [],
   "source": [
    "from chembl_webresource_client.new_client import new_client\n",
    "import pandas as pd\n",
    "\n",
    "molecule = new_client.molecule\n",
    "approved_drugs = molecule.filter(max_phase=4).order_by('first_approval','pref_name')\n",
    "\n",
    "# convert to DataFrame for better display\n",
    "df = pd.DataFrame(approved_drugs[0:20])  # only first 20 drugs! approved_drugs contains all "
   ]
  },
  {
   "cell_type": "code",
   "execution_count": 2,
   "id": "f2eac033-fd6b-47db-a495-57715fe71faf",
   "metadata": {},
   "outputs": [
    {
     "data": {
      "text/html": [
       "<div>\n",
       "<style scoped>\n",
       "    .dataframe tbody tr th:only-of-type {\n",
       "        vertical-align: middle;\n",
       "    }\n",
       "\n",
       "    .dataframe tbody tr th {\n",
       "        vertical-align: top;\n",
       "    }\n",
       "\n",
       "    .dataframe thead th {\n",
       "        text-align: right;\n",
       "    }\n",
       "</style>\n",
       "<table border=\"1\" class=\"dataframe\">\n",
       "  <thead>\n",
       "    <tr style=\"text-align: right;\">\n",
       "      <th></th>\n",
       "      <th>molecule_chembl_id</th>\n",
       "      <th>pref_name</th>\n",
       "      <th>first_approval</th>\n",
       "      <th>molecule_type</th>\n",
       "    </tr>\n",
       "  </thead>\n",
       "  <tbody>\n",
       "    <tr>\n",
       "      <th>0</th>\n",
       "      <td>CHEMBL449</td>\n",
       "      <td>BUTABARBITAL</td>\n",
       "      <td>1939</td>\n",
       "      <td>Small molecule</td>\n",
       "    </tr>\n",
       "    <tr>\n",
       "      <th>1</th>\n",
       "      <td>CHEMBL1200982</td>\n",
       "      <td>BUTABARBITAL SODIUM</td>\n",
       "      <td>1939</td>\n",
       "      <td>Small molecule</td>\n",
       "    </tr>\n",
       "    <tr>\n",
       "      <th>2</th>\n",
       "      <td>CHEMBL1200542</td>\n",
       "      <td>DESOXYCORTICOSTERONE ACETATE</td>\n",
       "      <td>1939</td>\n",
       "      <td>Small molecule</td>\n",
       "    </tr>\n",
       "    <tr>\n",
       "      <th>3</th>\n",
       "      <td>CHEMBL821</td>\n",
       "      <td>GUANIDINE</td>\n",
       "      <td>1939</td>\n",
       "      <td>Small molecule</td>\n",
       "    </tr>\n",
       "    <tr>\n",
       "      <th>4</th>\n",
       "      <td>CHEMBL1200728</td>\n",
       "      <td>GUANIDINE HYDROCHLORIDE</td>\n",
       "      <td>1939</td>\n",
       "      <td>Small molecule</td>\n",
       "    </tr>\n",
       "    <tr>\n",
       "      <th>5</th>\n",
       "      <td>CHEMBL1201657</td>\n",
       "      <td>HEPARIN SODIUM</td>\n",
       "      <td>1939</td>\n",
       "      <td>Oligosaccharide</td>\n",
       "    </tr>\n",
       "    <tr>\n",
       "      <th>6</th>\n",
       "      <td>CHEMBL90</td>\n",
       "      <td>HISTAMINE</td>\n",
       "      <td>1939</td>\n",
       "      <td>Small molecule</td>\n",
       "    </tr>\n",
       "    <tr>\n",
       "      <th>7</th>\n",
       "      <td>CHEMBL3989520</td>\n",
       "      <td>HISTAMINE PHOSPHATE</td>\n",
       "      <td>1939</td>\n",
       "      <td>Small molecule</td>\n",
       "    </tr>\n",
       "    <tr>\n",
       "      <th>8</th>\n",
       "      <td>CHEMBL700</td>\n",
       "      <td>SULFAPYRIDINE</td>\n",
       "      <td>1939</td>\n",
       "      <td>Small molecule</td>\n",
       "    </tr>\n",
       "    <tr>\n",
       "      <th>9</th>\n",
       "      <td>CHEMBL1370561</td>\n",
       "      <td>AMINOPHYLLINE</td>\n",
       "      <td>1940</td>\n",
       "      <td>Small molecule</td>\n",
       "    </tr>\n",
       "    <tr>\n",
       "      <th>10</th>\n",
       "      <td>CHEMBL190</td>\n",
       "      <td>THEOPHYLLINE</td>\n",
       "      <td>1940</td>\n",
       "      <td>Small molecule</td>\n",
       "    </tr>\n",
       "    <tr>\n",
       "      <th>11</th>\n",
       "      <td>CHEMBL1536</td>\n",
       "      <td>ERGOCALCIFEROL</td>\n",
       "      <td>1941</td>\n",
       "      <td>Small molecule</td>\n",
       "    </tr>\n",
       "    <tr>\n",
       "      <th>12</th>\n",
       "      <td>CHEMBL439</td>\n",
       "      <td>SULFADIAZINE</td>\n",
       "      <td>1941</td>\n",
       "      <td>Small molecule</td>\n",
       "    </tr>\n",
       "    <tr>\n",
       "      <th>13</th>\n",
       "      <td>CHEMBL1200351</td>\n",
       "      <td>SULFADIAZINE SODIUM</td>\n",
       "      <td>1941</td>\n",
       "      <td>Small molecule</td>\n",
       "    </tr>\n",
       "    <tr>\n",
       "      <th>14</th>\n",
       "      <td>CHEMBL1201649</td>\n",
       "      <td>ESTROGENS, CONJUGATED</td>\n",
       "      <td>1942</td>\n",
       "      <td>Unknown</td>\n",
       "    </tr>\n",
       "    <tr>\n",
       "      <th>15</th>\n",
       "      <td>CHEMBL607</td>\n",
       "      <td>MEPERIDINE</td>\n",
       "      <td>1942</td>\n",
       "      <td>Small molecule</td>\n",
       "    </tr>\n",
       "    <tr>\n",
       "      <th>16</th>\n",
       "      <td>CHEMBL1701</td>\n",
       "      <td>MEPERIDINE HYDROCHLORIDE</td>\n",
       "      <td>1942</td>\n",
       "      <td>Small molecule</td>\n",
       "    </tr>\n",
       "    <tr>\n",
       "      <th>17</th>\n",
       "      <td>CHEMBL1200851</td>\n",
       "      <td>HOMATROPINE METHYLBROMIDE</td>\n",
       "      <td>1943</td>\n",
       "      <td>Small molecule</td>\n",
       "    </tr>\n",
       "    <tr>\n",
       "      <th>18</th>\n",
       "      <td>CHEMBL1457</td>\n",
       "      <td>HYDROCODONE</td>\n",
       "      <td>1943</td>\n",
       "      <td>Small molecule</td>\n",
       "    </tr>\n",
       "    <tr>\n",
       "      <th>19</th>\n",
       "      <td>CHEMBL3989677</td>\n",
       "      <td>HYDROCODONE BITARTRATE</td>\n",
       "      <td>1943</td>\n",
       "      <td>Small molecule</td>\n",
       "    </tr>\n",
       "  </tbody>\n",
       "</table>\n",
       "</div>"
      ],
      "text/plain": [
       "   molecule_chembl_id                     pref_name  first_approval  \\\n",
       "0           CHEMBL449                  BUTABARBITAL            1939   \n",
       "1       CHEMBL1200982           BUTABARBITAL SODIUM            1939   \n",
       "2       CHEMBL1200542  DESOXYCORTICOSTERONE ACETATE            1939   \n",
       "3           CHEMBL821                     GUANIDINE            1939   \n",
       "4       CHEMBL1200728       GUANIDINE HYDROCHLORIDE            1939   \n",
       "5       CHEMBL1201657                HEPARIN SODIUM            1939   \n",
       "6            CHEMBL90                     HISTAMINE            1939   \n",
       "7       CHEMBL3989520           HISTAMINE PHOSPHATE            1939   \n",
       "8           CHEMBL700                 SULFAPYRIDINE            1939   \n",
       "9       CHEMBL1370561                 AMINOPHYLLINE            1940   \n",
       "10          CHEMBL190                  THEOPHYLLINE            1940   \n",
       "11         CHEMBL1536                ERGOCALCIFEROL            1941   \n",
       "12          CHEMBL439                  SULFADIAZINE            1941   \n",
       "13      CHEMBL1200351           SULFADIAZINE SODIUM            1941   \n",
       "14      CHEMBL1201649         ESTROGENS, CONJUGATED            1942   \n",
       "15          CHEMBL607                    MEPERIDINE            1942   \n",
       "16         CHEMBL1701      MEPERIDINE HYDROCHLORIDE            1942   \n",
       "17      CHEMBL1200851     HOMATROPINE METHYLBROMIDE            1943   \n",
       "18         CHEMBL1457                   HYDROCODONE            1943   \n",
       "19      CHEMBL3989677        HYDROCODONE BITARTRATE            1943   \n",
       "\n",
       "      molecule_type  \n",
       "0    Small molecule  \n",
       "1    Small molecule  \n",
       "2    Small molecule  \n",
       "3    Small molecule  \n",
       "4    Small molecule  \n",
       "5   Oligosaccharide  \n",
       "6    Small molecule  \n",
       "7    Small molecule  \n",
       "8    Small molecule  \n",
       "9    Small molecule  \n",
       "10   Small molecule  \n",
       "11   Small molecule  \n",
       "12   Small molecule  \n",
       "13   Small molecule  \n",
       "14          Unknown  \n",
       "15   Small molecule  \n",
       "16   Small molecule  \n",
       "17   Small molecule  \n",
       "18   Small molecule  \n",
       "19   Small molecule  "
      ]
     },
     "execution_count": 2,
     "metadata": {},
     "output_type": "execute_result"
    }
   ],
   "source": [
    "df[['molecule_chembl_id', 'pref_name', 'first_approval', 'molecule_type']]"
   ]
  },
  {
   "cell_type": "code",
   "execution_count": 3,
   "id": "f12d4121-464e-432d-8802-282919e6d16d",
   "metadata": {},
   "outputs": [
    {
     "name": "stdout",
     "output_type": "stream",
     "text": [
      "<class 'pandas.core.frame.DataFrame'>\n",
      "RangeIndex: 20 entries, 0 to 19\n",
      "Data columns (total 36 columns):\n",
      " #   Column                Non-Null Count  Dtype  \n",
      "---  ------                --------------  -----  \n",
      " 0   atc_classifications   20 non-null     object \n",
      " 1   availability_type     20 non-null     int64  \n",
      " 2   biotherapeutic        0 non-null      object \n",
      " 3   black_box_warning     20 non-null     int64  \n",
      " 4   chebi_par_id          11 non-null     float64\n",
      " 5   chemical_probe        20 non-null     int64  \n",
      " 6   chirality             20 non-null     int64  \n",
      " 7   cross_references      20 non-null     object \n",
      " 8   dosed_ingredient      20 non-null     bool   \n",
      " 9   first_approval        20 non-null     int64  \n",
      " 10  first_in_class        20 non-null     int64  \n",
      " 11  helm_notation         0 non-null      object \n",
      " 12  indication_class      16 non-null     object \n",
      " 13  inorganic_flag        20 non-null     int64  \n",
      " 14  max_phase             20 non-null     object \n",
      " 15  molecule_chembl_id    20 non-null     object \n",
      " 16  molecule_hierarchy    20 non-null     object \n",
      " 17  molecule_properties   18 non-null     object \n",
      " 18  molecule_structures   18 non-null     object \n",
      " 19  molecule_synonyms     20 non-null     object \n",
      " 20  molecule_type         20 non-null     object \n",
      " 21  natural_product       20 non-null     int64  \n",
      " 22  oral                  20 non-null     bool   \n",
      " 23  orphan                20 non-null     int64  \n",
      " 24  parenteral            20 non-null     bool   \n",
      " 25  polymer_flag          20 non-null     int64  \n",
      " 26  pref_name             20 non-null     object \n",
      " 27  prodrug               20 non-null     int64  \n",
      " 28  structure_type        20 non-null     object \n",
      " 29  therapeutic_flag      20 non-null     bool   \n",
      " 30  topical               20 non-null     bool   \n",
      " 31  usan_stem             14 non-null     object \n",
      " 32  usan_stem_definition  14 non-null     object \n",
      " 33  usan_substem          14 non-null     object \n",
      " 34  usan_year             5 non-null      float64\n",
      " 35  withdrawn_flag        20 non-null     bool   \n",
      "dtypes: bool(6), float64(2), int64(11), object(17)\n",
      "memory usage: 4.9+ KB\n"
     ]
    }
   ],
   "source": [
    "df.info()"
   ]
  },
  {
   "cell_type": "markdown",
   "id": "a2a57475-8423-4883-b5f4-08dc8890ddea",
   "metadata": {},
   "source": [
    "## 2. Retrieve a list of UniProt accession numbers"
   ]
  },
  {
   "cell_type": "code",
   "execution_count": 4,
   "id": "536f50e0-8862-47b0-8faf-cf08166f529a",
   "metadata": {},
   "outputs": [
    {
     "data": {
      "text/html": [
       "<div>\n",
       "<style scoped>\n",
       "    .dataframe tbody tr th:only-of-type {\n",
       "        vertical-align: middle;\n",
       "    }\n",
       "\n",
       "    .dataframe tbody tr th {\n",
       "        vertical-align: top;\n",
       "    }\n",
       "\n",
       "    .dataframe thead th {\n",
       "        text-align: right;\n",
       "    }\n",
       "</style>\n",
       "<table border=\"1\" class=\"dataframe\">\n",
       "  <thead>\n",
       "    <tr style=\"text-align: right;\">\n",
       "      <th></th>\n",
       "      <th>molecule_chembl_id</th>\n",
       "      <th>pref_name</th>\n",
       "      <th>first_approval</th>\n",
       "      <th>molecule_type</th>\n",
       "    </tr>\n",
       "  </thead>\n",
       "  <tbody>\n",
       "    <tr>\n",
       "      <th>0</th>\n",
       "      <td>CHEMBL441738</td>\n",
       "      <td>AFAMELANOTIDE</td>\n",
       "      <td>2014</td>\n",
       "      <td>Protein</td>\n",
       "    </tr>\n",
       "    <tr>\n",
       "      <th>1</th>\n",
       "      <td>CHEMBL4297213</td>\n",
       "      <td>AFAMELANOTIDE ACETATE</td>\n",
       "      <td>2014</td>\n",
       "      <td>Protein</td>\n",
       "    </tr>\n",
       "    <tr>\n",
       "      <th>2</th>\n",
       "      <td>CHEMBL2107841</td>\n",
       "      <td>ALBIGLUTIDE</td>\n",
       "      <td>2014</td>\n",
       "      <td>Protein</td>\n",
       "    </tr>\n",
       "    <tr>\n",
       "      <th>3</th>\n",
       "      <td>CHEMBL514800</td>\n",
       "      <td>APREMILAST</td>\n",
       "      <td>2014</td>\n",
       "      <td>Small molecule</td>\n",
       "    </tr>\n",
       "    <tr>\n",
       "      <th>4</th>\n",
       "      <td>CHEMBL2105735</td>\n",
       "      <td>ASUNAPREVIR</td>\n",
       "      <td>2014</td>\n",
       "      <td>Small molecule</td>\n",
       "    </tr>\n",
       "    <tr>\n",
       "      <th>5</th>\n",
       "      <td>CHEMBL256997</td>\n",
       "      <td>ATALUREN</td>\n",
       "      <td>2014</td>\n",
       "      <td>Small molecule</td>\n",
       "    </tr>\n",
       "    <tr>\n",
       "      <th>6</th>\n",
       "      <td>CHEMBL408513</td>\n",
       "      <td>BELINOSTAT</td>\n",
       "      <td>2014</td>\n",
       "      <td>Small molecule</td>\n",
       "    </tr>\n",
       "    <tr>\n",
       "      <th>7</th>\n",
       "      <td>CHEMBL1742992</td>\n",
       "      <td>BLINATUMOMAB</td>\n",
       "      <td>2014</td>\n",
       "      <td>Antibody</td>\n",
       "    </tr>\n",
       "    <tr>\n",
       "      <th>8</th>\n",
       "      <td>CHEMBL2103872</td>\n",
       "      <td>CEFTOLOZANE</td>\n",
       "      <td>2014</td>\n",
       "      <td>Small molecule</td>\n",
       "    </tr>\n",
       "    <tr>\n",
       "      <th>9</th>\n",
       "      <td>CHEMBL1213250</td>\n",
       "      <td>CEFTOLOZANE SULFATE</td>\n",
       "      <td>2014</td>\n",
       "      <td>Small molecule</td>\n",
       "    </tr>\n",
       "    <tr>\n",
       "      <th>10</th>\n",
       "      <td>CHEMBL2403108</td>\n",
       "      <td>CERITINIB</td>\n",
       "      <td>2014</td>\n",
       "      <td>Small molecule</td>\n",
       "    </tr>\n",
       "    <tr>\n",
       "      <th>11</th>\n",
       "      <td>CHEMBL2023898</td>\n",
       "      <td>DACLATASVIR</td>\n",
       "      <td>2014</td>\n",
       "      <td>Small molecule</td>\n",
       "    </tr>\n",
       "    <tr>\n",
       "      <th>12</th>\n",
       "      <td>CHEMBL2303621</td>\n",
       "      <td>DACLATASVIR DIHYDROCHLORIDE</td>\n",
       "      <td>2014</td>\n",
       "      <td>Small molecule</td>\n",
       "    </tr>\n",
       "    <tr>\n",
       "      <th>13</th>\n",
       "      <td>CHEMBL3301669</td>\n",
       "      <td>DALBAVANCIN</td>\n",
       "      <td>2014</td>\n",
       "      <td>Unknown</td>\n",
       "    </tr>\n",
       "    <tr>\n",
       "      <th>14</th>\n",
       "      <td>CHEMBL3301650</td>\n",
       "      <td>DALBAVANCIN HYDROCHLORIDE</td>\n",
       "      <td>2014</td>\n",
       "      <td>Unknown</td>\n",
       "    </tr>\n",
       "    <tr>\n",
       "      <th>15</th>\n",
       "      <td>CHEMBL3137312</td>\n",
       "      <td>DASABUVIR</td>\n",
       "      <td>2014</td>\n",
       "      <td>Small molecule</td>\n",
       "    </tr>\n",
       "    <tr>\n",
       "      <th>16</th>\n",
       "      <td>CHEMBL3544985</td>\n",
       "      <td>DASABUVIR SODIUM MONOHYDRATE</td>\n",
       "      <td>2014</td>\n",
       "      <td>Small molecule</td>\n",
       "    </tr>\n",
       "    <tr>\n",
       "      <th>17</th>\n",
       "      <td>CHEMBL218650</td>\n",
       "      <td>DELAMANID</td>\n",
       "      <td>2014</td>\n",
       "      <td>Small molecule</td>\n",
       "    </tr>\n",
       "    <tr>\n",
       "      <th>18</th>\n",
       "      <td>CHEMBL2103827</td>\n",
       "      <td>DROXIDOPA</td>\n",
       "      <td>2014</td>\n",
       "      <td>Small molecule</td>\n",
       "    </tr>\n",
       "    <tr>\n",
       "      <th>19</th>\n",
       "      <td>CHEMBL2108027</td>\n",
       "      <td>DULAGLUTIDE</td>\n",
       "      <td>2014</td>\n",
       "      <td>Protein</td>\n",
       "    </tr>\n",
       "  </tbody>\n",
       "</table>\n",
       "</div>"
      ],
      "text/plain": [
       "   molecule_chembl_id                     pref_name  first_approval  \\\n",
       "0        CHEMBL441738                 AFAMELANOTIDE            2014   \n",
       "1       CHEMBL4297213         AFAMELANOTIDE ACETATE            2014   \n",
       "2       CHEMBL2107841                   ALBIGLUTIDE            2014   \n",
       "3        CHEMBL514800                    APREMILAST            2014   \n",
       "4       CHEMBL2105735                   ASUNAPREVIR            2014   \n",
       "5        CHEMBL256997                      ATALUREN            2014   \n",
       "6        CHEMBL408513                    BELINOSTAT            2014   \n",
       "7       CHEMBL1742992                  BLINATUMOMAB            2014   \n",
       "8       CHEMBL2103872                   CEFTOLOZANE            2014   \n",
       "9       CHEMBL1213250           CEFTOLOZANE SULFATE            2014   \n",
       "10      CHEMBL2403108                     CERITINIB            2014   \n",
       "11      CHEMBL2023898                   DACLATASVIR            2014   \n",
       "12      CHEMBL2303621   DACLATASVIR DIHYDROCHLORIDE            2014   \n",
       "13      CHEMBL3301669                   DALBAVANCIN            2014   \n",
       "14      CHEMBL3301650     DALBAVANCIN HYDROCHLORIDE            2014   \n",
       "15      CHEMBL3137312                     DASABUVIR            2014   \n",
       "16      CHEMBL3544985  DASABUVIR SODIUM MONOHYDRATE            2014   \n",
       "17       CHEMBL218650                     DELAMANID            2014   \n",
       "18      CHEMBL2103827                     DROXIDOPA            2014   \n",
       "19      CHEMBL2108027                   DULAGLUTIDE            2014   \n",
       "\n",
       "     molecule_type  \n",
       "0          Protein  \n",
       "1          Protein  \n",
       "2          Protein  \n",
       "3   Small molecule  \n",
       "4   Small molecule  \n",
       "5   Small molecule  \n",
       "6   Small molecule  \n",
       "7         Antibody  \n",
       "8   Small molecule  \n",
       "9   Small molecule  \n",
       "10  Small molecule  \n",
       "11  Small molecule  \n",
       "12  Small molecule  \n",
       "13         Unknown  \n",
       "14         Unknown  \n",
       "15  Small molecule  \n",
       "16  Small molecule  \n",
       "17  Small molecule  \n",
       "18  Small molecule  \n",
       "19         Protein  "
      ]
     },
     "execution_count": 4,
     "metadata": {},
     "output_type": "execute_result"
    }
   ],
   "source": [
    "approved_drugs_since_2014 = approved_drugs.filter(first_approval__gte=2014)\n",
    "\n",
    "pd.DataFrame(approved_drugs_since_2014[0:20])[['molecule_chembl_id', 'pref_name', 'first_approval', 'molecule_type']]"
   ]
  },
  {
   "cell_type": "code",
   "execution_count": 5,
   "id": "2e135e55-d495-4e03-8c52-d536ba5cc499",
   "metadata": {},
   "outputs": [
    {
     "data": {
      "text/plain": [
       "['CHEMBL441738',\n",
       " 'CHEMBL4297213',\n",
       " 'CHEMBL2107841',\n",
       " 'CHEMBL514800',\n",
       " 'CHEMBL2105735',\n",
       " 'CHEMBL256997',\n",
       " 'CHEMBL408513',\n",
       " 'CHEMBL1742992',\n",
       " 'CHEMBL2103872',\n",
       " 'CHEMBL1213250']"
      ]
     },
     "execution_count": 5,
     "metadata": {},
     "output_type": "execute_result"
    }
   ],
   "source": [
    "drug_ids = [ chemb_id['molecule_chembl_id'] for chemb_id in approved_drugs_since_2014.only(['molecule_chembl_id']) ] \n",
    "drug_ids[:10]"
   ]
  },
  {
   "cell_type": "code",
   "execution_count": 6,
   "id": "6b81e4a4-2050-42e8-8660-62bfa5d68acd",
   "metadata": {},
   "outputs": [
    {
     "name": "stdout",
     "output_type": "stream",
     "text": [
      "Drug: CHEMBL441738,  UniProt: ['Q01726']\n",
      "Drug: CHEMBL4297213,  UniProt: ['Q01726']\n",
      "Drug: CHEMBL2107841,  UniProt: ['P43220']\n",
      "Drug: CHEMBL514800,  UniProt: ['P27815', 'Q08499', 'Q07343', 'Q08493']\n",
      "Drug: CHEMBL2105735,  UniProt: ['D2K2A8', 'A3EZI9']\n",
      "Drug: CHEMBL256997,  UniProt: ['P08865', 'P42677', 'P62753', 'P15880', 'P23396', 'P61247', 'P62701', 'P22090', 'P46782', 'P62081', 'P62241', 'P46781', 'P46783', 'P62280', 'P25398', 'P62277', 'P62263', 'P62841', 'P62244', 'P62249', 'P08708', 'P62269', 'P39019', 'P60866', 'P63220', 'P62266', 'P62847', 'P62851', 'P62854', 'P62979', 'P62857', 'P62273', 'P62861', 'P39023', 'P36578', 'P46777', 'Q02878', 'P18124', 'P62424', 'P62917', 'P32969', 'P27635', 'P62906', 'P62913', 'P30050', 'P26373', 'P40429', 'P50914', 'P61313', 'P18621', 'Q07020', 'Q02543', 'P84098', 'P46778', 'P35268', 'P62829', 'P62750', 'P83731', 'P61254', 'P61353', 'P46776', 'P46779', 'P47914', 'P62888', 'P62899', 'P62910', 'P49207', 'P42766', 'P18077', 'Q9Y3U8', 'P83881', 'P61927', 'P61513', 'P63173', 'P62891', 'P62945', 'P05388', 'P05386', None, None, None, None]\n",
      "Drug: CHEMBL408513,  UniProt: ['Q13547', 'O15379', 'Q9UBN7', 'Q92769', 'Q9UQL6', 'Q8WUI4', 'Q9BY41', 'Q96DB2', 'P56524', 'Q9UKV0', 'Q969S8']\n",
      "Drug: CHEMBL1742992,  UniProt: ['P07766', 'P09693', 'P04234']\n",
      "Drug: CHEMBL1742992,  UniProt: ['P15391']\n",
      "Drug: CHEMBL1213250,  UniProt: ['P24228', 'P0AD68', 'P02918', 'P02919', 'P0AEB2', 'P0AD65', 'P08506']\n",
      "Drug: CHEMBL2403108,  UniProt: ['Q9UM73']\n",
      "Drug: CHEMBL2403108,  UniProt: ['Q9UM73', 'Q9HC35']\n",
      "Drug: CHEMBL2403108,  UniProt: ['Q9UM73', 'P06748']\n",
      "Drug: CHEMBL2303621,  UniProt: ['Q5L478']\n",
      "Drug: CHEMBL3301650,  UniProt: []\n",
      "Drug: CHEMBL3544985,  UniProt: ['Q8JXU8']\n",
      "Drug: CHEMBL218650,  UniProt: []\n",
      "Drug: CHEMBL2103827,  UniProt: ['P35348', 'P08913', 'P08588', 'P07550', 'P18825', 'P25100', 'P35368', 'P18089', 'P13945']\n",
      "Drug: CHEMBL2108027,  UniProt: ['P43220']\n",
      "Drug: CHEMBL2103877,  UniProt: ['F2SHH3']\n",
      "No target id found in DB\n",
      "No target id found in DB\n",
      "No target id found in DB\n",
      "No target id found in DB\n",
      "No target id found in DB\n",
      "No target id found in DB\n",
      "No target id found in DB\n",
      "No target id found in DB\n",
      "No target id found in DB\n",
      "No target id found in DB\n",
      "No target id found in DB\n",
      "No target id found in DB\n",
      "No target id found in DB\n",
      "No target id found in DB\n",
      "No target id found in DB\n",
      "No target id found in DB\n",
      "No target id found in DB\n",
      "No target id found in DB\n",
      "No target id found in DB\n",
      "No target id found in DB\n",
      "No target id found in DB\n",
      "No target id found in DB\n",
      "No target id found in DB\n",
      "No target id found in DB\n",
      "No target id found in DB\n",
      "No target id found in DB\n",
      "No target id found in DB\n",
      "No target id found in DB\n",
      "No target id found in DB\n",
      "No target id found in DB\n",
      "No target id found in DB\n",
      "No target id found in DB\n",
      "No target id found in DB\n",
      "No target id found in DB\n",
      "No target id found in DB\n",
      "No target id found in DB\n",
      "No target id found in DB\n",
      "No target id found in DB\n",
      "No target id found in DB\n",
      "No target id found in DB\n",
      "No target id found in DB\n",
      "No target id found in DB\n",
      "No target id found in DB\n",
      "No target id found in DB\n",
      "No target id found in DB\n",
      "No target id found in DB\n",
      "No target id found in DB\n",
      "No target id found in DB\n",
      "No target id found in DB\n",
      "No target id found in DB\n",
      "No target id found in DB\n",
      "No target id found in DB\n",
      "No target id found in DB\n",
      "No target id found in DB\n",
      "No target id found in DB\n",
      "No target id found in DB\n",
      "No target id found in DB\n",
      "No target id found in DB\n",
      "No target id found in DB\n",
      "No target id found in DB\n",
      "No target id found in DB\n",
      "No target id found in DB\n",
      "No target id found in DB\n"
     ]
    }
   ],
   "source": [
    "from chembl_webresource_client.new_client import new_client\n",
    "\n",
    "# In 2014, UniProt introduced 10-character accession numbers to accommodate the growing number of entries\n",
    "\n",
    "# To retrieve them we need to go as follows: molecule -> mechanism -> target \n",
    "\n",
    "# To retrive targets using molecule_chembl_id we got above  \n",
    "# we must get their mechanisms of action first using .mechanism endpoint\n",
    "# Finally, we can get information about the targets and their uniprots \n",
    "\n",
    "target = new_client.target\n",
    "\n",
    "uniprot_ids_all = {}\n",
    "counter = 0 \n",
    "\n",
    "for drug in drug_ids:\n",
    "    # ChEMBL molecule -> mechanism\n",
    "\n",
    "    mechanisms = new_client.mechanism.filter(molecule_chembl_id=drug)\n",
    "    \n",
    "    for mechanism in mechanisms:\n",
    "\n",
    "        target_id = mechanism['target_chembl_id'] # can be None! \n",
    "\n",
    "        if target_id:\n",
    "            # ChEMBL target -> Uniprot \n",
    "            target_data = target.get(target_id)\n",
    "\n",
    "            uniprots_target = [data['accession'] for data in target_data['target_components']]\n",
    "        \n",
    "            uniprot_ids_all[drug] = uniprots_target \n",
    "        else: \n",
    "            print(\"No target id found in DB\")\n",
    "\n",
    "        if counter < 20:\n",
    "            print(f\"Drug: {drug},  UniProt: {uniprots_target}\")\n",
    "            counter +=1 "
   ]
  },
  {
   "cell_type": "code",
   "execution_count": 7,
   "id": "c695d61d-cbce-4913-acef-3417a40a7479",
   "metadata": {},
   "outputs": [
    {
     "name": "stdout",
     "output_type": "stream",
     "text": [
      "Initial number of drugs: 722\n",
      "Number of drugs after UniProt accession numbers retrieval: 566\n"
     ]
    }
   ],
   "source": [
    "print(f\"Initial number of drugs: {len(drug_ids)}\")\n",
    "print(f\"Number of drugs after UniProt accession numbers retrieval: {len(uniprot_ids_all)}\")"
   ]
  },
  {
   "cell_type": "code",
   "execution_count": 9,
   "id": "f6b16f70-f5b5-48d9-8dc2-3a4332509614",
   "metadata": {},
   "outputs": [
    {
     "name": "stdout",
     "output_type": "stream",
     "text": [
      "Number of unique UniProt accession numbers: 1371\n"
     ]
    }
   ],
   "source": [
    "# drugs can work against multiple targets \n",
    "uniprot_ids = [item for sublist in list(uniprot_ids_all.values()) for item in sublist if item is not None]\n",
    "print(f\"Number of unique UniProt accession numbers: {len(uniprot_ids)}\")\n"
   ]
  },
  {
   "cell_type": "markdown",
   "id": "c463fec3-e530-4524-a2bc-3e62a038b749",
   "metadata": {},
   "source": [
    "## 3. Retrieve UniProt keywords"
   ]
  },
  {
   "cell_type": "code",
   "execution_count": 10,
   "id": "4a2fba9a-59dc-4019-ab31-22ed4d2e0fd5",
   "metadata": {},
   "outputs": [
    {
     "name": "stdout",
     "output_type": "stream",
     "text": [
      "UniProt: Q01726 Keywords: [{'id': 'KW-0002', 'category': 'Technical term', 'name': '3D-structure'}, {'id': 'KW-1003', 'category': 'Cellular component', 'name': 'Cell membrane'}, {'id': 'KW-0225', 'category': 'Disease', 'name': 'Disease variant'}, {'id': 'KW-0297', 'category': 'Molecular function', 'name': 'G-protein coupled receptor'}, {'id': 'KW-0325', 'category': 'PTM', 'name': 'Glycoprotein'}, {'id': 'KW-0449', 'category': 'PTM', 'name': 'Lipoprotein'}, {'id': 'KW-0472', 'category': 'Cellular component', 'name': 'Membrane'}, {'id': 'KW-0564', 'category': 'PTM', 'name': 'Palmitate'}, {'id': 'KW-1267', 'category': 'Technical term', 'name': 'Proteomics identification'}, {'id': 'KW-0675', 'category': 'Molecular function', 'name': 'Receptor'}, {'id': 'KW-1185', 'category': 'Technical term', 'name': 'Reference proteome'}, {'id': 'KW-0807', 'category': 'Molecular function', 'name': 'Transducer'}, {'id': 'KW-0812', 'category': 'Domain', 'name': 'Transmembrane'}, {'id': 'KW-1133', 'category': 'Domain', 'name': 'Transmembrane helix'}] \n",
      "\n",
      "UniProt: Q01726 Keywords: [{'id': 'KW-0002', 'category': 'Technical term', 'name': '3D-structure'}, {'id': 'KW-1003', 'category': 'Cellular component', 'name': 'Cell membrane'}, {'id': 'KW-0225', 'category': 'Disease', 'name': 'Disease variant'}, {'id': 'KW-0297', 'category': 'Molecular function', 'name': 'G-protein coupled receptor'}, {'id': 'KW-0325', 'category': 'PTM', 'name': 'Glycoprotein'}, {'id': 'KW-0449', 'category': 'PTM', 'name': 'Lipoprotein'}, {'id': 'KW-0472', 'category': 'Cellular component', 'name': 'Membrane'}, {'id': 'KW-0564', 'category': 'PTM', 'name': 'Palmitate'}, {'id': 'KW-1267', 'category': 'Technical term', 'name': 'Proteomics identification'}, {'id': 'KW-0675', 'category': 'Molecular function', 'name': 'Receptor'}, {'id': 'KW-1185', 'category': 'Technical term', 'name': 'Reference proteome'}, {'id': 'KW-0807', 'category': 'Molecular function', 'name': 'Transducer'}, {'id': 'KW-0812', 'category': 'Domain', 'name': 'Transmembrane'}, {'id': 'KW-1133', 'category': 'Domain', 'name': 'Transmembrane helix'}] \n",
      "\n",
      "UniProt: P43220 Keywords: [{'id': 'KW-0002', 'category': 'Technical term', 'name': '3D-structure'}, {'id': 'KW-0013', 'category': 'PTM', 'name': 'ADP-ribosylation'}, {'id': 'KW-1003', 'category': 'Cellular component', 'name': 'Cell membrane'}, {'id': 'KW-1015', 'category': 'PTM', 'name': 'Disulfide bond'}, {'id': 'KW-0297', 'category': 'Molecular function', 'name': 'G-protein coupled receptor'}, {'id': 'KW-0325', 'category': 'PTM', 'name': 'Glycoprotein'}, {'id': 'KW-0472', 'category': 'Cellular component', 'name': 'Membrane'}, {'id': 'KW-0675', 'category': 'Molecular function', 'name': 'Receptor'}, {'id': 'KW-1185', 'category': 'Technical term', 'name': 'Reference proteome'}, {'id': 'KW-0732', 'category': 'Domain', 'name': 'Signal'}, {'id': 'KW-0807', 'category': 'Molecular function', 'name': 'Transducer'}, {'id': 'KW-0812', 'category': 'Domain', 'name': 'Transmembrane'}, {'id': 'KW-1133', 'category': 'Domain', 'name': 'Transmembrane helix'}] \n",
      "\n",
      "UniProt: P27815 Keywords: [{'id': 'KW-0002', 'category': 'Technical term', 'name': '3D-structure'}, {'id': 'KW-0025', 'category': 'Coding sequence diversity', 'name': 'Alternative splicing'}, {'id': 'KW-0114', 'category': 'Ligand', 'name': 'cAMP'}, {'id': 'KW-1003', 'category': 'Cellular component', 'name': 'Cell membrane'}, {'id': 'KW-0966', 'category': 'Cellular component', 'name': 'Cell projection'}, {'id': 'KW-0963', 'category': 'Cellular component', 'name': 'Cytoplasm'}, {'id': 'KW-0378', 'category': 'Molecular function', 'name': 'Hydrolase'}, {'id': 'KW-1017', 'category': 'PTM', 'name': 'Isopeptide bond'}, {'id': 'KW-0464', 'category': 'Ligand', 'name': 'Manganese'}, {'id': 'KW-0472', 'category': 'Cellular component', 'name': 'Membrane'}, {'id': 'KW-0479', 'category': 'Ligand', 'name': 'Metal-binding'}, {'id': 'KW-0597', 'category': 'PTM', 'name': 'Phosphoprotein'}, {'id': 'KW-1267', 'category': 'Technical term', 'name': 'Proteomics identification'}, {'id': 'KW-1185', 'category': 'Technical term', 'name': 'Reference proteome'}, {'id': 'KW-0832', 'category': 'PTM', 'name': 'Ubl conjugation'}, {'id': 'KW-0862', 'category': 'Ligand', 'name': 'Zinc'}] \n",
      "\n",
      "UniProt: Q08499 Keywords: [{'id': 'KW-0002', 'category': 'Technical term', 'name': '3D-structure'}, {'id': 'KW-0025', 'category': 'Coding sequence diversity', 'name': 'Alternative splicing'}, {'id': 'KW-0114', 'category': 'Ligand', 'name': 'cAMP'}, {'id': 'KW-1003', 'category': 'Cellular component', 'name': 'Cell membrane'}, {'id': 'KW-0963', 'category': 'Cellular component', 'name': 'Cytoplasm'}, {'id': 'KW-0206', 'category': 'Cellular component', 'name': 'Cytoskeleton'}, {'id': 'KW-0225', 'category': 'Disease', 'name': 'Disease variant'}, {'id': 'KW-0378', 'category': 'Molecular function', 'name': 'Hydrolase'}, {'id': 'KW-1017', 'category': 'PTM', 'name': 'Isopeptide bond'}, {'id': 'KW-0464', 'category': 'Ligand', 'name': 'Manganese'}, {'id': 'KW-0472', 'category': 'Cellular component', 'name': 'Membrane'}, {'id': 'KW-0479', 'category': 'Ligand', 'name': 'Metal-binding'}, {'id': 'KW-0597', 'category': 'PTM', 'name': 'Phosphoprotein'}, {'id': 'KW-1267', 'category': 'Technical term', 'name': 'Proteomics identification'}, {'id': 'KW-1185', 'category': 'Technical term', 'name': 'Reference proteome'}, {'id': 'KW-0832', 'category': 'PTM', 'name': 'Ubl conjugation'}, {'id': 'KW-0862', 'category': 'Ligand', 'name': 'Zinc'}] \n",
      "\n",
      "UniProt: Q07343 Keywords: [{'id': 'KW-0002', 'category': 'Technical term', 'name': '3D-structure'}, {'id': 'KW-0025', 'category': 'Coding sequence diversity', 'name': 'Alternative splicing'}, {'id': 'KW-0114', 'category': 'Ligand', 'name': 'cAMP'}, {'id': 'KW-1003', 'category': 'Cellular component', 'name': 'Cell membrane'}, {'id': 'KW-0963', 'category': 'Cellular component', 'name': 'Cytoplasm'}, {'id': 'KW-0378', 'category': 'Molecular function', 'name': 'Hydrolase'}, {'id': 'KW-0472', 'category': 'Cellular component', 'name': 'Membrane'}, {'id': 'KW-0479', 'category': 'Ligand', 'name': 'Metal-binding'}, {'id': 'KW-0597', 'category': 'PTM', 'name': 'Phosphoprotein'}, {'id': 'KW-1267', 'category': 'Technical term', 'name': 'Proteomics identification'}, {'id': 'KW-1185', 'category': 'Technical term', 'name': 'Reference proteome'}, {'id': 'KW-0862', 'category': 'Ligand', 'name': 'Zinc'}] \n",
      "\n",
      "UniProt: Q08493 Keywords: [{'id': 'KW-0002', 'category': 'Technical term', 'name': '3D-structure'}, {'id': 'KW-0025', 'category': 'Coding sequence diversity', 'name': 'Alternative splicing'}, {'id': 'KW-0114', 'category': 'Ligand', 'name': 'cAMP'}, {'id': 'KW-0966', 'category': 'Cellular component', 'name': 'Cell projection'}, {'id': 'KW-0969', 'category': 'Cellular component', 'name': 'Cilium'}, {'id': 'KW-0378', 'category': 'Molecular function', 'name': 'Hydrolase'}, {'id': 'KW-0464', 'category': 'Ligand', 'name': 'Manganese'}, {'id': 'KW-0479', 'category': 'Ligand', 'name': 'Metal-binding'}, {'id': 'KW-0597', 'category': 'PTM', 'name': 'Phosphoprotein'}, {'id': 'KW-1267', 'category': 'Technical term', 'name': 'Proteomics identification'}, {'id': 'KW-1185', 'category': 'Technical term', 'name': 'Reference proteome'}, {'id': 'KW-0862', 'category': 'Ligand', 'name': 'Zinc'}] \n",
      "\n",
      "UniProt: D2K2A8 Keywords: [{'evidences': [{'evidenceCode': 'ECO:0000256', 'source': 'SAM', 'id': 'Phobius'}], 'id': 'KW-0472', 'category': 'Cellular component', 'name': 'Membrane'}, {'evidences': [{'evidenceCode': 'ECO:0000256', 'source': 'SAM', 'id': 'Phobius'}], 'id': 'KW-0812', 'category': 'Domain', 'name': 'Transmembrane'}, {'evidences': [{'evidenceCode': 'ECO:0000256', 'source': 'SAM', 'id': 'Phobius'}], 'id': 'KW-1133', 'category': 'Domain', 'name': 'Transmembrane helix'}] \n",
      "\n",
      "UniProt: A3EZI9 Keywords: [{'evidences': [{'evidenceCode': 'ECO:0000256', 'source': 'ARBA', 'id': 'ARBA00022840'}], 'id': 'KW-0067', 'category': 'Ligand', 'name': 'ATP-binding'}, {'evidences': [{'evidenceCode': 'ECO:0000256', 'source': 'ARBA', 'id': 'ARBA00022561'}], 'id': 'KW-0167', 'category': 'Cellular component', 'name': 'Capsid protein'}, {'evidences': [{'evidenceCode': 'ECO:0000256', 'source': 'ARBA', 'id': 'ARBA00023157'}], 'id': 'KW-1015', 'category': 'PTM', 'name': 'Disulfide bond'}, {'evidences': [{'evidenceCode': 'ECO:0000256', 'source': 'ARBA', 'id': 'ARBA00022510'}], 'id': 'KW-1170', 'category': 'Biological process', 'name': 'Fusion of virus membrane with host endosomal membrane'}, {'evidences': [{'evidenceCode': 'ECO:0000256', 'source': 'ARBA', 'id': 'ARBA00022506'}], 'id': 'KW-1168', 'category': 'Biological process', 'name': 'Fusion of virus membrane with host membrane'}, {'evidences': [{'evidenceCode': 'ECO:0000256', 'source': 'ARBA', 'id': 'ARBA00023180'}], 'id': 'KW-0325', 'category': 'PTM', 'name': 'Glycoprotein'}, {'evidences': [{'evidenceCode': 'ECO:0000256', 'source': 'ARBA', 'id': 'ARBA00023184'}], 'id': 'KW-1038', 'category': 'Cellular component', 'name': 'Host endoplasmic reticulum'}, {'evidences': [{'evidenceCode': 'ECO:0000256', 'source': 'ARBA', 'id': 'ARBA00022870'}], 'id': 'KW-1043', 'category': 'Cellular component', 'name': 'Host membrane'}, {'evidences': [{'evidenceCode': 'ECO:0000256', 'source': 'ARBA', 'id': 'ARBA00022581'}], 'id': 'KW-0945', 'category': 'Biological process', 'name': 'Host-virus interaction'}, {'evidences': [{'evidenceCode': 'ECO:0000256', 'source': 'ARBA', 'id': 'ARBA00022801'}], 'id': 'KW-0378', 'category': 'Molecular function', 'name': 'Hydrolase'}, {'evidences': [{'evidenceCode': 'ECO:0000256', 'source': 'ARBA', 'id': 'ARBA00022632'}], 'id': 'KW-1090', 'category': 'Biological process', 'name': 'Inhibition of host innate immune response by virus'}, {'evidences': [{'evidenceCode': 'ECO:0000256', 'source': 'ARBA', 'id': 'ARBA00023136'}], 'id': 'KW-0472', 'category': 'Cellular component', 'name': 'Membrane'}, {'evidences': [{'evidenceCode': 'ECO:0000256', 'source': 'ARBA', 'id': 'ARBA00022840'}], 'id': 'KW-0547', 'category': 'Ligand', 'name': 'Nucleotide-binding'}, {'evidences': [{'evidenceCode': 'ECO:0000256', 'source': 'ARBA', 'id': 'ARBA00022670'}], 'id': 'KW-0645', 'category': 'Molecular function', 'name': 'Protease'}, {'evidences': [{'evidenceCode': 'ECO:0000256', 'source': 'ARBA', 'id': 'ARBA00022825'}], 'id': 'KW-0720', 'category': 'Molecular function', 'name': 'Serine protease'}, {'evidences': [{'evidenceCode': 'ECO:0000256', 'source': 'ARBA', 'id': 'ARBA00022692'}], 'id': 'KW-0812', 'category': 'Domain', 'name': 'Transmembrane'}, {'evidences': [{'evidenceCode': 'ECO:0000256', 'source': 'ARBA', 'id': 'ARBA00022989'}], 'id': 'KW-1133', 'category': 'Domain', 'name': 'Transmembrane helix'}, {'evidences': [{'evidenceCode': 'ECO:0000256', 'source': 'ARBA', 'id': 'ARBA00022804'}], 'id': 'KW-1161', 'category': 'Biological process', 'name': 'Viral attachment to host cell'}, {'evidences': [{'evidenceCode': 'ECO:0000256', 'source': 'ARBA', 'id': 'ARBA00023280'}], 'id': 'KW-0899', 'category': 'Biological process', 'name': 'Viral immunoevasion'}, {'evidences': [{'evidenceCode': 'ECO:0000256', 'source': 'ARBA', 'id': 'ARBA00022595'}], 'id': 'KW-1162', 'category': 'Biological process', 'name': 'Viral penetration into host cytoplasm'}, {'evidences': [{'evidenceCode': 'ECO:0000256', 'source': 'ARBA', 'id': 'ARBA00022844'}], 'id': 'KW-0946', 'category': 'Cellular component', 'name': 'Virion'}, {'evidences': [{'evidenceCode': 'ECO:0000256', 'source': 'ARBA', 'id': 'ARBA00023296'}], 'id': 'KW-1160', 'category': 'Biological process', 'name': 'Virus entry into host cell'}] \n",
      "\n",
      "UniProt: P08865 Keywords: [{'id': 'KW-0002', 'category': 'Technical term', 'name': '3D-structure'}, {'id': 'KW-0007', 'category': 'PTM', 'name': 'Acetylation'}, {'id': 'KW-1003', 'category': 'Cellular component', 'name': 'Cell membrane'}, {'id': 'KW-0963', 'category': 'Cellular component', 'name': 'Cytoplasm'}, {'id': 'KW-0903', 'category': 'Technical term', 'name': 'Direct protein sequencing'}, {'id': 'KW-0225', 'category': 'Disease', 'name': 'Disease variant'}, {'id': 'KW-1183', 'category': 'Molecular function', 'name': 'Host cell receptor for virus entry'}, {'id': 'KW-0945', 'category': 'Biological process', 'name': 'Host-virus interaction'}, {'id': 'KW-1017', 'category': 'PTM', 'name': 'Isopeptide bond'}, {'id': 'KW-0472', 'category': 'Cellular component', 'name': 'Membrane'}, {'id': 'KW-0539', 'category': 'Cellular component', 'name': 'Nucleus'}, {'id': 'KW-0597', 'category': 'PTM', 'name': 'Phosphoprotein'}, {'id': 'KW-1267', 'category': 'Technical term', 'name': 'Proteomics identification'}, {'id': 'KW-0675', 'category': 'Molecular function', 'name': 'Receptor'}, {'id': 'KW-1185', 'category': 'Technical term', 'name': 'Reference proteome'}, {'id': 'KW-0677', 'category': 'Domain', 'name': 'Repeat'}, {'id': 'KW-0687', 'category': 'Molecular function', 'name': 'Ribonucleoprotein'}, {'id': 'KW-0689', 'category': 'Molecular function', 'name': 'Ribosomal protein'}, {'id': 'KW-0832', 'category': 'PTM', 'name': 'Ubl conjugation'}] \n",
      "\n"
     ]
    },
    {
     "name": "stderr",
     "output_type": "stream",
     "text": [
      "\u001b[33mWARNING [bioservices.UniProt:596]: \u001b[0m \u001b[32mstatus is not ok with Bad Request\u001b[0m\n"
     ]
    },
    {
     "name": "stdout",
     "output_type": "stream",
     "text": [
      "Warning: Could not retrieve keywords for ENSG00000196839. Response type: <class 'int'>\n"
     ]
    },
    {
     "name": "stderr",
     "output_type": "stream",
     "text": [
      "\u001b[33mWARNING [bioservices.UniProt:596]: \u001b[0m \u001b[32mstatus is not ok with Bad Request\u001b[0m\n"
     ]
    },
    {
     "name": "stdout",
     "output_type": "stream",
     "text": [
      "Warning: Could not retrieve keywords for ENSG00000198947. Response type: <class 'int'>\n"
     ]
    },
    {
     "name": "stderr",
     "output_type": "stream",
     "text": [
      "\u001b[33mWARNING [bioservices.UniProt:596]: \u001b[0m \u001b[32mstatus is not ok with Bad Request\u001b[0m\n"
     ]
    },
    {
     "name": "stdout",
     "output_type": "stream",
     "text": [
      "Warning: Could not retrieve keywords for ENSG00000205571. Response type: <class 'int'>\n"
     ]
    },
    {
     "name": "stderr",
     "output_type": "stream",
     "text": [
      "\u001b[33mWARNING [bioservices.UniProt:596]: \u001b[0m \u001b[32mstatus is not ok with Bad Request\u001b[0m\n"
     ]
    },
    {
     "name": "stdout",
     "output_type": "stream",
     "text": [
      "Warning: Could not retrieve keywords for ENSG00000118271. Response type: <class 'int'>\n"
     ]
    },
    {
     "name": "stderr",
     "output_type": "stream",
     "text": [
      "\u001b[33mWARNING [bioservices.UniProt:596]: \u001b[0m \u001b[32mstatus is not ok with Bad Request\u001b[0m\n"
     ]
    },
    {
     "name": "stdout",
     "output_type": "stream",
     "text": [
      "Warning: Could not retrieve keywords for ENSG00000118271. Response type: <class 'int'>\n"
     ]
    },
    {
     "name": "stderr",
     "output_type": "stream",
     "text": [
      "\u001b[33mWARNING [bioservices.UniProt:596]: \u001b[0m \u001b[32mstatus is not ok with Bad Request\u001b[0m\n"
     ]
    },
    {
     "name": "stdout",
     "output_type": "stream",
     "text": [
      "Warning: Could not retrieve keywords for ENSG00000023330. Response type: <class 'int'>\n"
     ]
    },
    {
     "name": "stderr",
     "output_type": "stream",
     "text": [
      "\u001b[33mWARNING [bioservices.UniProt:596]: \u001b[0m \u001b[32mstatus is not ok with Bad Request\u001b[0m\n"
     ]
    },
    {
     "name": "stdout",
     "output_type": "stream",
     "text": [
      "Warning: Could not retrieve keywords for ENSG00000198947. Response type: <class 'int'>\n"
     ]
    },
    {
     "name": "stderr",
     "output_type": "stream",
     "text": [
      "\u001b[33mWARNING [bioservices.UniProt:596]: \u001b[0m \u001b[32mstatus is not ok with Bad Request\u001b[0m\n"
     ]
    },
    {
     "name": "stdout",
     "output_type": "stream",
     "text": [
      "Warning: Could not retrieve keywords for ENSG00000110245. Response type: <class 'int'>\n"
     ]
    },
    {
     "name": "stderr",
     "output_type": "stream",
     "text": [
      "\u001b[33mWARNING [bioservices.UniProt:596]: \u001b[0m \u001b[32mstatus is not ok with Bad Request\u001b[0m\n"
     ]
    },
    {
     "name": "stdout",
     "output_type": "stream",
     "text": [
      "Warning: Could not retrieve keywords for ENSG00000100299. Response type: <class 'int'>\n"
     ]
    },
    {
     "name": "stderr",
     "output_type": "stream",
     "text": [
      "\u001b[33mWARNING [bioservices.UniProt:596]: \u001b[0m \u001b[32mstatus is not ok with Bad Request\u001b[0m\n"
     ]
    },
    {
     "name": "stdout",
     "output_type": "stream",
     "text": [
      "Warning: Could not retrieve keywords for ENSG00000169174. Response type: <class 'int'>\n"
     ]
    },
    {
     "name": "stderr",
     "output_type": "stream",
     "text": [
      "\u001b[33mWARNING [bioservices.UniProt:596]: \u001b[0m \u001b[32mstatus is not ok with Bad Request\u001b[0m\n"
     ]
    },
    {
     "name": "stdout",
     "output_type": "stream",
     "text": [
      "Warning: Could not retrieve keywords for ENSG00000101323. Response type: <class 'int'>\n"
     ]
    },
    {
     "name": "stderr",
     "output_type": "stream",
     "text": [
      "\u001b[33mWARNING [bioservices.UniProt:596]: \u001b[0m \u001b[32mstatus is not ok with Bad Request\u001b[0m\n"
     ]
    },
    {
     "name": "stdout",
     "output_type": "stream",
     "text": [
      "Warning: Could not retrieve keywords for ENSG00000205571. Response type: <class 'int'>\n"
     ]
    },
    {
     "name": "stderr",
     "output_type": "stream",
     "text": [
      "\u001b[33mWARNING [bioservices.UniProt:596]: \u001b[0m \u001b[32mstatus is not ok with Bad Request\u001b[0m\n"
     ]
    },
    {
     "name": "stdout",
     "output_type": "stream",
     "text": [
      "Warning: Could not retrieve keywords for ENSG00000198947. Response type: <class 'int'>\n"
     ]
    },
    {
     "name": "stderr",
     "output_type": "stream",
     "text": [
      "\u001b[33mWARNING [bioservices.UniProt:596]: \u001b[0m \u001b[32mstatus is not ok with Bad Request\u001b[0m\n"
     ]
    },
    {
     "name": "stdout",
     "output_type": "stream",
     "text": [
      "Warning: Could not retrieve keywords for ENSG00000198947. Response type: <class 'int'>\n"
     ]
    },
    {
     "name": "stderr",
     "output_type": "stream",
     "text": [
      "\u001b[33mWARNING [bioservices.UniProt:596]: \u001b[0m \u001b[32mstatus is not ok with Bad Request\u001b[0m\n"
     ]
    },
    {
     "name": "stdout",
     "output_type": "stream",
     "text": [
      "Warning: Could not retrieve keywords for ENSG00000101986. Response type: <class 'int'>\n"
     ]
    },
    {
     "name": "stderr",
     "output_type": "stream",
     "text": [
      "\u001b[33mWARNING [bioservices.UniProt:596]: \u001b[0m \u001b[32mstatus is not ok with Bad Request\u001b[0m\n"
     ]
    },
    {
     "name": "stdout",
     "output_type": "stream",
     "text": [
      "Warning: Could not retrieve keywords for ENSG00000132437. Response type: <class 'int'>\n"
     ]
    },
    {
     "name": "stderr",
     "output_type": "stream",
     "text": [
      "\u001b[33mWARNING [bioservices.UniProt:596]: \u001b[0m \u001b[32mstatus is not ok with Bad Request\u001b[0m\n"
     ]
    },
    {
     "name": "stdout",
     "output_type": "stream",
     "text": [
      "Warning: Could not retrieve keywords for ENSG00000118271. Response type: <class 'int'>\n"
     ]
    },
    {
     "name": "stderr",
     "output_type": "stream",
     "text": [
      "\u001b[33mWARNING [bioservices.UniProt:596]: \u001b[0m \u001b[32mstatus is not ok with Bad Request\u001b[0m\n"
     ]
    },
    {
     "name": "stdout",
     "output_type": "stream",
     "text": [
      "Warning: Could not retrieve keywords for ENSG00000118271. Response type: <class 'int'>\n"
     ]
    },
    {
     "name": "stderr",
     "output_type": "stream",
     "text": [
      "\u001b[33mWARNING [bioservices.UniProt:596]: \u001b[0m \u001b[32mstatus is not ok with Bad Request\u001b[0m\n"
     ]
    },
    {
     "name": "stdout",
     "output_type": "stream",
     "text": [
      "Warning: Could not retrieve keywords for ENSG00000134333. Response type: <class 'int'>\n"
     ]
    },
    {
     "name": "stderr",
     "output_type": "stream",
     "text": [
      "\u001b[33mWARNING [bioservices.UniProt:596]: \u001b[0m \u001b[32mstatus is not ok with Bad Request\u001b[0m\n"
     ]
    },
    {
     "name": "stdout",
     "output_type": "stream",
     "text": [
      "Warning: Could not retrieve keywords for ENSG00000142168. Response type: <class 'int'>\n"
     ]
    }
   ],
   "source": [
    "from bioservices import UniProt\n",
    "# source: https://widdowquinn.github.io/2018-03-06-ibioic/02-sequence_databases/07-uniprot_programming.html \n",
    "u = UniProt()\n",
    "\n",
    "def get_uniprot_keywords(accession):\n",
    "    try:\n",
    "        # retrieve entry in JSON format\n",
    "        entry = u.retrieve(accession, frmt=\"json\")\n",
    "        \n",
    "        # check if entry is a dictionary before using get()\n",
    "        if isinstance(entry, dict):\n",
    "            return entry.get(\"keywords\", [])\n",
    "        else:\n",
    "            print(f\"Warning: Could not retrieve keywords for {accession}. Response type: {type(entry)}\")\n",
    "            return []\n",
    "    except Exception as e:\n",
    "        print(f\"Error retrieving data for {accession}: {str(e)}\")\n",
    "        return []\n",
    "\n",
    "i=0\n",
    "uniprot_keywords = {}\n",
    "\n",
    "# Because keywords represent different classifications of this protein's structure and function \n",
    "# a single UniProt can have several sets of keywords\n",
    "\n",
    "for idx in uniprot_ids:\n",
    "    item = get_uniprot_keywords(idx)\n",
    "    uniprot_keywords[idx] = item\n",
    "    \n",
    "    if i<10:\n",
    "        print(\"UniProt:\", idx, \"Keywords:\", item, \"\\n\")  \n",
    "        i+=1\n"
   ]
  },
  {
   "cell_type": "code",
   "execution_count": 12,
   "id": "51495a5f-e9e8-45a1-9d57-e068f88d7a63",
   "metadata": {},
   "outputs": [
    {
     "data": {
      "text/plain": [
       "[{'id': 'KW-0002', 'category': 'Technical term', 'name': '3D-structure'},\n",
       " {'id': 'KW-0007', 'category': 'PTM', 'name': 'Acetylation'},\n",
       " {'id': 'KW-1003', 'category': 'Cellular component', 'name': 'Cell membrane'},\n",
       " {'id': 'KW-0963', 'category': 'Cellular component', 'name': 'Cytoplasm'},\n",
       " {'id': 'KW-0903',\n",
       "  'category': 'Technical term',\n",
       "  'name': 'Direct protein sequencing'},\n",
       " {'id': 'KW-0225', 'category': 'Disease', 'name': 'Disease variant'},\n",
       " {'id': 'KW-1183',\n",
       "  'category': 'Molecular function',\n",
       "  'name': 'Host cell receptor for virus entry'},\n",
       " {'id': 'KW-0945',\n",
       "  'category': 'Biological process',\n",
       "  'name': 'Host-virus interaction'},\n",
       " {'id': 'KW-1017', 'category': 'PTM', 'name': 'Isopeptide bond'},\n",
       " {'id': 'KW-0472', 'category': 'Cellular component', 'name': 'Membrane'},\n",
       " {'id': 'KW-0539', 'category': 'Cellular component', 'name': 'Nucleus'},\n",
       " {'id': 'KW-0597', 'category': 'PTM', 'name': 'Phosphoprotein'},\n",
       " {'id': 'KW-1267',\n",
       "  'category': 'Technical term',\n",
       "  'name': 'Proteomics identification'},\n",
       " {'id': 'KW-0675', 'category': 'Molecular function', 'name': 'Receptor'},\n",
       " {'id': 'KW-1185', 'category': 'Technical term', 'name': 'Reference proteome'},\n",
       " {'id': 'KW-0677', 'category': 'Domain', 'name': 'Repeat'},\n",
       " {'id': 'KW-0687',\n",
       "  'category': 'Molecular function',\n",
       "  'name': 'Ribonucleoprotein'},\n",
       " {'id': 'KW-0689',\n",
       "  'category': 'Molecular function',\n",
       "  'name': 'Ribosomal protein'},\n",
       " {'id': 'KW-0832', 'category': 'PTM', 'name': 'Ubl conjugation'}]"
      ]
     },
     "execution_count": 12,
     "metadata": {},
     "output_type": "execute_result"
    }
   ],
   "source": [
    "uniprot_keywords[\"P08865\"]"
   ]
  },
  {
   "cell_type": "code",
   "execution_count": 15,
   "id": "d6ed6710-98a0-4cad-94be-1c0fa29b5c55",
   "metadata": {},
   "outputs": [
    {
     "data": {
      "text/plain": [
       "[]"
      ]
     },
     "execution_count": 15,
     "metadata": {},
     "output_type": "execute_result"
    }
   ],
   "source": [
    "uniprot_keywords[\"ENSG00000205571\"] \n",
    "# but https://www.uniprot.org/uniprotkb?query=ENSG00000205571 finds it => something with the bioservices client  "
   ]
  },
  {
   "cell_type": "code",
   "execution_count": null,
   "id": "7e0a5655-2224-4f0f-9700-630412e8b339",
   "metadata": {},
   "outputs": [],
   "source": []
  }
 ],
 "metadata": {
  "kernelspec": {
   "display_name": "bio",
   "language": "python",
   "name": "bio"
  },
  "language_info": {
   "codemirror_mode": {
    "name": "ipython",
    "version": 3
   },
   "file_extension": ".py",
   "mimetype": "text/x-python",
   "name": "python",
   "nbconvert_exporter": "python",
   "pygments_lexer": "ipython3",
   "version": "3.12.2"
  }
 },
 "nbformat": 4,
 "nbformat_minor": 5
}
